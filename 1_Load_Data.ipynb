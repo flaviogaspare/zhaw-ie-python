{
 "cells": [
  {
   "attachments": {},
   "cell_type": "markdown",
   "metadata": {},
   "source": [
    "Daten einlesen"
   ]
  },
  {
   "cell_type": "code",
   "execution_count": null,
   "metadata": {},
   "outputs": [],
   "source": [
    "import geopandas as gpd\n",
    "\n",
    "# Pfad zur gpkg-Datei angeben\n",
    "pfad_zur_datei = \"data/SOLKAT_DACH.gpkg\"\n",
    "\n",
    "# Geopackage-Datei mit geopandas lesen\n",
    "gdf = gpd.read_file(pfad_zur_datei)\n",
    "\n",
    "\n",
    "# Die ersten 5 Zeilen des Geopandas-Dataframes ausgeben\n",
    "print(gdf.head())"
   ]
  },
  {
   "cell_type": "code",
   "execution_count": null,
   "metadata": {},
   "outputs": [],
   "source": [
    "import sqlite3\n",
    "conn = sqlite3.connect('data/SOLKAT_DACH.gpkg')                                \n",
    "cursor = conn.cursor()\n",
    "\n",
    "cursor.execute(\"SELECT * LIMIT 1;\")\n",
    "result = cursor.fetchone()[0]\n",
    "\n"
   ]
  }
 ],
 "metadata": {
  "kernelspec": {
   "display_name": "Python 3",
   "language": "python",
   "name": "python3"
  },
  "language_info": {
   "codemirror_mode": {
    "name": "ipython",
    "version": 3
   },
   "file_extension": ".py",
   "mimetype": "text/x-python",
   "name": "python",
   "nbconvert_exporter": "python",
   "pygments_lexer": "ipython3",
   "version": "3.11.0"
  },
  "orig_nbformat": 4
 },
 "nbformat": 4,
 "nbformat_minor": 2
}
