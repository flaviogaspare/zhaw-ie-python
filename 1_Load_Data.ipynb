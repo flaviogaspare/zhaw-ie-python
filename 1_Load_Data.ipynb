{
 "cells": [
  {
   "attachments": {},
   "cell_type": "markdown",
   "metadata": {},
   "source": [
    "Datenbank vorbereiten\n",
    " - Indexierung erstellen"
   ]
  },
  {
   "cell_type": "code",
   "execution_count": null,
   "metadata": {},
   "outputs": [],
   "source": [
    "import sqlite3\n",
    "\n",
    "conn = sqlite3.connect('data/SOLKAT_DACH.gpkg')\n",
    "cursor = conn.cursor()\n",
    "\n",
    "index_name = \"GWR_EGID_INDEX\"\n",
    "\n",
    "create_index_sql = \"CREATE INDEX {0} ON SOLKAT_CH_DACH(GWR_EGID)\".format(index_name)\n",
    "\n",
    "cursor.execute(create_index_sql)\n",
    "\n",
    "conn.commit()\n",
    "conn.close()"
   ]
  },
  {
   "attachments": {},
   "cell_type": "markdown",
   "metadata": {},
   "source": [
    "Daten einlesen aus Building Datenbank"
   ]
  },
  {
   "cell_type": "code",
   "execution_count": null,
   "metadata": {},
   "outputs": [],
   "source": [
    "import sqlite3\n",
    "import numpy as np\n",
    "import pandas as pd\n",
    "\n",
    "conn = sqlite3.connect('data/data.sqlite')                                \n",
    "cursor = conn.cursor()\n",
    "\n",
    "# query building DB\n",
    "sql = \"SELECT EGID, GGDENAME, GDEKT, GKODE, GKODN from building;\"\n",
    "\n",
    "df_building = pd.read_sql_query(sql, conn)\n",
    "\n",
    "print(df_building)\n",
    "\n",
    "print(df_building.head())\n",
    "\n",
    "# Verbindung schließen\n",
    "conn.close()\n",
    "\n",
    "#df_building.to_csv(\"data/EGID.csv\", index=False)"
   ]
  },
  {
   "attachments": {},
   "cell_type": "markdown",
   "metadata": {},
   "source": [
    "Daten einlesen aus Dach Datenbank"
   ]
  },
  {
   "cell_type": "code",
   "execution_count": null,
   "metadata": {},
   "outputs": [],
   "source": [
    "import sqlite3\n",
    "import numpy as np\n",
    "import pandas as pd\n",
    "\n",
    "conn = sqlite3.connect('data/SOLKAT_DACH.gpkg')\n",
    "cursor = conn.cursor()\n",
    "\n",
    "df_dach = pd.DataFrame()\n",
    "\n",
    "# Inhalt von Dataframe löschen\n",
    "df_dach.drop(index=df_dach.index, inplace=True)\n",
    "\n",
    "# Schleife über jede Gruppe von 500 EGIDs\n",
    "for i in range(0, len(df_building), 500):\n",
    "    # Aktuelle Gruppe von EGIDs auswählen\n",
    "    egid_group = df_building[\"EGID\"].iloc[i:i+500]\n",
    "    \n",
    "    # WHERE-Klausel für die Abfrage erstellen\n",
    "    where_clause = \"WHERE \" + \" OR \".join([\"GWR_EGID='{}'\".format(egid) for egid in egid_group])\n",
    "    \n",
    "    # SQL-Abfrage ausführen\n",
    "    sql =  \"\"\"\n",
    "        SELECT \n",
    "            SUM(FLAECHE) AS Summe_Flaeche, \n",
    "            SUM(STROMERTRAG) AS Summe_Stromertrag, \n",
    "            SUM(FLAECHE_KOLLEKTOREN) AS Summe_Flaeche_Kollektoren, \n",
    "            GWR_EGID AS EGID\n",
    "        FROM \n",
    "            SOLKAT_CH_DACH\n",
    "        {}\n",
    "        GROUP BY\n",
    "            GWR_EGID;\n",
    "        \"\"\".format(where_clause)\n",
    "    \n",
    "    result = pd.read_sql_query(sql, conn)\n",
    "\n",
    "    # Ergebnis dem bestehenden DataFrame \"df_dach\" hinzufügen\n",
    "    df_dach = df_dach.append(result, ignore_index=True)\n",
    "\n",
    "\n",
    "# Verbindung schließen\n",
    "conn.close()\n",
    "\n",
    "\n",
    "# Spalte EGID muss für merge gleicher Datentyp wie df_building/EGID haben\n",
    "df_dach[\"EGID\"] = df_dach[\"EGID\"].astype(str)\n",
    "\n",
    "# Mergen und Zeilen behalten, die in beiden Dataframes gefunden wurden\n",
    "df_merge = pd.merge(df_building, df_dach, how='inner', on='EGID')\n",
    "\n",
    "df_merge.to_csv(\"data/DachInfo.csv\", index=False)\n"
   ]
  }
 ],
 "metadata": {
  "kernelspec": {
   "display_name": "Python 3",
   "language": "python",
   "name": "python3"
  },
  "language_info": {
   "codemirror_mode": {
    "name": "ipython",
    "version": 3
   },
   "file_extension": ".py",
   "mimetype": "text/x-python",
   "name": "python",
   "nbconvert_exporter": "python",
   "pygments_lexer": "ipython3",
   "version": "3.11.0"
  },
  "orig_nbformat": 4
 },
 "nbformat": 4,
 "nbformat_minor": 2
}
