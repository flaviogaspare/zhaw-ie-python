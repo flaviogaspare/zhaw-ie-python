{
 "cells": [
  {
   "cell_type": "code",
   "execution_count": 1,
   "metadata": {},
   "outputs": [
    {
     "ename": "SyntaxError",
     "evalue": "invalid syntax (3725173021.py, line 1)",
     "output_type": "error",
     "traceback": [
      "\u001b[1;36m  Cell \u001b[1;32mIn[1], line 1\u001b[1;36m\u001b[0m\n\u001b[1;33m    Datenbank vorbereiten\u001b[0m\n\u001b[1;37m              ^\u001b[0m\n\u001b[1;31mSyntaxError\u001b[0m\u001b[1;31m:\u001b[0m invalid syntax\n"
     ]
    }
   ],
   "source": [
    "Datenbank vorbereiten\n",
    " - Indexierung erstellen"
   ]
  },
  {
   "cell_type": "code",
   "execution_count": null,
   "metadata": {},
   "outputs": [],
   "source": [
    "import sqlite3\n",
    "\n",
    "conn = sqlite3.connect('data/SOLKAT_DACH.gpkg')\n",
    "cursor = conn.cursor()\n",
    "\n",
    "index_name = \"GWR_EGID_INDEX\"\n",
    "\n",
    "create_index_sql = \"CREATE INDEX {0} ON SOLKAT_CH_DACH(GWR_EGID)\".format(index_name)\n",
    "\n",
    "cursor.execute(create_index_sql)\n",
    "\n",
    "conn.commit()\n",
    "conn.close()"
   ]
  },
  {
   "attachments": {},
   "cell_type": "markdown",
   "metadata": {},
   "source": [
    "Daten einlesen aus Building Datenbank"
   ]
  },
  {
   "cell_type": "code",
   "execution_count": 32,
   "metadata": {},
   "outputs": [
    {
     "name": "stdout",
     "output_type": "stream",
     "text": [
      "          EGID       GGDENAME GDEKT\n",
      "0      1712079      Appenzell    AI\n",
      "1      1712080      Appenzell    AI\n",
      "2      1712081      Appenzell    AI\n",
      "3      1712082      Appenzell    AI\n",
      "4      1712083      Appenzell    AI\n",
      "...        ...            ...   ...\n",
      "10233  9018426  Schwende-Rüte    AI\n",
      "10234  9018427  Schwende-Rüte    AI\n",
      "10235  9041168  Schwende-Rüte    AI\n",
      "10236  9080869  Schwende-Rüte    AI\n",
      "10237  9080934  Schwende-Rüte    AI\n",
      "\n",
      "[10238 rows x 3 columns]\n",
      "      EGID   GGDENAME GDEKT\n",
      "0  1712079  Appenzell    AI\n",
      "1  1712080  Appenzell    AI\n",
      "2  1712081  Appenzell    AI\n",
      "3  1712082  Appenzell    AI\n",
      "4  1712083  Appenzell    AI\n"
     ]
    }
   ],
   "source": [
    "import sqlite3\n",
    "import numpy as np\n",
    "import pandas as pd\n",
    "\n",
    "conn = sqlite3.connect('data/data.sqlite')                                \n",
    "cursor = conn.cursor()\n",
    "\n",
    "# query building DB\n",
    "sql = \"SELECT EGID, GGDENAME, GDEKT from building where GDEKT = 'AI';\"\n",
    "\n",
    "df_building = pd.read_sql_query(sql, conn)\n",
    "\n",
    "print(df_building)\n",
    "\n",
    "print(df_building.head())\n",
    "\n",
    "# Verbindung schließen\n",
    "conn.close()\n",
    "\n",
    "#df_building.to_csv(\"data/EGID.csv\", index=False)"
   ]
  },
  {
   "cell_type": "code",
   "execution_count": 48,
   "metadata": {},
   "outputs": [
    {
     "ename": "SyntaxError",
     "evalue": "invalid syntax (1531320668.py, line 1)",
     "output_type": "error",
     "traceback": [
      "\u001b[1;36m  Cell \u001b[1;32mIn[48], line 1\u001b[1;36m\u001b[0m\n\u001b[1;33m    Daten einlesen aus Dach Datenbank\u001b[0m\n\u001b[1;37m          ^\u001b[0m\n\u001b[1;31mSyntaxError\u001b[0m\u001b[1;31m:\u001b[0m invalid syntax\n"
     ]
    }
   ],
   "source": [
    "Daten einlesen aus Dach Datenbank"
   ]
  },
  {
   "cell_type": "code",
   "execution_count": 1,
   "metadata": {},
   "outputs": [
    {
     "name": "stdout",
     "output_type": "stream",
     "text": [
      "\n",
      "    SELECT \n",
      "        SUM(FLAECHE) AS Summe_Flaeche, \n",
      "        SUM(STROMERTRAG) AS Summe_Stromertrag, \n",
      "        SUM(FLAECHE_KOLLEKTOREN) AS Summe_Flaeche_Kollektoren, \n",
      "        GWR_EGID AS EGID\n",
      "    FROM \n",
      "        SOLKAT_CH_DACH\n",
      "    WHERE\n",
      "        GWR_EGID IS NOT NULL\n",
      "    GROUP BY\n",
      "        GWR_EGID\n",
      "    LIMIT\n",
      "        1000000;\n",
      "    \n"
     ]
    }
   ],
   "source": [
    "import sqlite3\n",
    "import numpy as np\n",
    "import pandas as pd\n",
    "\n",
    "conn = sqlite3.connect('data/SOLKAT_DACH.gpkg')                                \n",
    "cursor = conn.cursor()\n",
    "\n",
    "sql =  \"\"\"\n",
    "    SELECT \n",
    "        SUM(FLAECHE) AS Summe_Flaeche, \n",
    "        SUM(STROMERTRAG) AS Summe_Stromertrag, \n",
    "        SUM(FLAECHE_KOLLEKTOREN) AS Summe_Flaeche_Kollektoren, \n",
    "        GWR_EGID AS EGID\n",
    "    FROM \n",
    "        SOLKAT_CH_DACH\n",
    "    WHERE\n",
    "        GWR_EGID IS NOT NULL\n",
    "    GROUP BY\n",
    "        GWR_EGID\n",
    "    LIMIT\n",
    "        1000000;\n",
    "    \"\"\"\n",
    "\n",
    "print(sql)\n",
    "\n",
    "df_dach = pd.read_sql_query(sql, conn)\n",
    "\n",
    "# Verbindung schließen\n",
    "conn.close()\n",
    "\n",
    "#Spalte EGID muss für merge gleicher Datentyp wie df_building/EGID haben\n",
    "#df_dach[\"EGID\"] = df_dach[\"EGID\"].astype(str)\n",
    "#\n",
    "##Mergen und Zeilen behalten, die in beiden Dataframes gefunden wurden\n",
    "#merged_df = pd.merge(df_building, df_dach, how='inner', on='EGID')\n",
    "#\n",
    "#print(merged_df.head())\n",
    "#\n",
    "##df_dach.to_csv(\"data/Dach.csv\", index=False)\n",
    "#merged_df.to_csv(\"data/DachInfo.csv\", index=False)"
   ]
  },
  {
   "cell_type": "code",
   "execution_count": 34,
   "metadata": {},
   "outputs": [
    {
     "name": "stderr",
     "output_type": "stream",
     "text": [
      "C:\\Users\\flavi\\AppData\\Local\\Temp\\ipykernel_27804\\2463110837.py:36: FutureWarning: The frame.append method is deprecated and will be removed from pandas in a future version. Use pandas.concat instead.\n",
      "  df_dach = df_dach.append(result, ignore_index=True)\n",
      "C:\\Users\\flavi\\AppData\\Local\\Temp\\ipykernel_27804\\2463110837.py:36: FutureWarning: The frame.append method is deprecated and will be removed from pandas in a future version. Use pandas.concat instead.\n",
      "  df_dach = df_dach.append(result, ignore_index=True)\n",
      "C:\\Users\\flavi\\AppData\\Local\\Temp\\ipykernel_27804\\2463110837.py:36: FutureWarning: The frame.append method is deprecated and will be removed from pandas in a future version. Use pandas.concat instead.\n",
      "  df_dach = df_dach.append(result, ignore_index=True)\n",
      "C:\\Users\\flavi\\AppData\\Local\\Temp\\ipykernel_27804\\2463110837.py:36: FutureWarning: The frame.append method is deprecated and will be removed from pandas in a future version. Use pandas.concat instead.\n",
      "  df_dach = df_dach.append(result, ignore_index=True)\n",
      "C:\\Users\\flavi\\AppData\\Local\\Temp\\ipykernel_27804\\2463110837.py:36: FutureWarning: The frame.append method is deprecated and will be removed from pandas in a future version. Use pandas.concat instead.\n",
      "  df_dach = df_dach.append(result, ignore_index=True)\n",
      "C:\\Users\\flavi\\AppData\\Local\\Temp\\ipykernel_27804\\2463110837.py:36: FutureWarning: The frame.append method is deprecated and will be removed from pandas in a future version. Use pandas.concat instead.\n",
      "  df_dach = df_dach.append(result, ignore_index=True)\n",
      "C:\\Users\\flavi\\AppData\\Local\\Temp\\ipykernel_27804\\2463110837.py:36: FutureWarning: The frame.append method is deprecated and will be removed from pandas in a future version. Use pandas.concat instead.\n",
      "  df_dach = df_dach.append(result, ignore_index=True)\n",
      "C:\\Users\\flavi\\AppData\\Local\\Temp\\ipykernel_27804\\2463110837.py:36: FutureWarning: The frame.append method is deprecated and will be removed from pandas in a future version. Use pandas.concat instead.\n",
      "  df_dach = df_dach.append(result, ignore_index=True)\n",
      "C:\\Users\\flavi\\AppData\\Local\\Temp\\ipykernel_27804\\2463110837.py:36: FutureWarning: The frame.append method is deprecated and will be removed from pandas in a future version. Use pandas.concat instead.\n",
      "  df_dach = df_dach.append(result, ignore_index=True)\n",
      "C:\\Users\\flavi\\AppData\\Local\\Temp\\ipykernel_27804\\2463110837.py:36: FutureWarning: The frame.append method is deprecated and will be removed from pandas in a future version. Use pandas.concat instead.\n",
      "  df_dach = df_dach.append(result, ignore_index=True)\n",
      "C:\\Users\\flavi\\AppData\\Local\\Temp\\ipykernel_27804\\2463110837.py:36: FutureWarning: The frame.append method is deprecated and will be removed from pandas in a future version. Use pandas.concat instead.\n",
      "  df_dach = df_dach.append(result, ignore_index=True)\n",
      "C:\\Users\\flavi\\AppData\\Local\\Temp\\ipykernel_27804\\2463110837.py:36: FutureWarning: The frame.append method is deprecated and will be removed from pandas in a future version. Use pandas.concat instead.\n",
      "  df_dach = df_dach.append(result, ignore_index=True)\n",
      "C:\\Users\\flavi\\AppData\\Local\\Temp\\ipykernel_27804\\2463110837.py:36: FutureWarning: The frame.append method is deprecated and will be removed from pandas in a future version. Use pandas.concat instead.\n",
      "  df_dach = df_dach.append(result, ignore_index=True)\n",
      "C:\\Users\\flavi\\AppData\\Local\\Temp\\ipykernel_27804\\2463110837.py:36: FutureWarning: The frame.append method is deprecated and will be removed from pandas in a future version. Use pandas.concat instead.\n",
      "  df_dach = df_dach.append(result, ignore_index=True)\n",
      "C:\\Users\\flavi\\AppData\\Local\\Temp\\ipykernel_27804\\2463110837.py:36: FutureWarning: The frame.append method is deprecated and will be removed from pandas in a future version. Use pandas.concat instead.\n",
      "  df_dach = df_dach.append(result, ignore_index=True)\n",
      "C:\\Users\\flavi\\AppData\\Local\\Temp\\ipykernel_27804\\2463110837.py:36: FutureWarning: The frame.append method is deprecated and will be removed from pandas in a future version. Use pandas.concat instead.\n",
      "  df_dach = df_dach.append(result, ignore_index=True)\n",
      "C:\\Users\\flavi\\AppData\\Local\\Temp\\ipykernel_27804\\2463110837.py:36: FutureWarning: The frame.append method is deprecated and will be removed from pandas in a future version. Use pandas.concat instead.\n",
      "  df_dach = df_dach.append(result, ignore_index=True)\n",
      "C:\\Users\\flavi\\AppData\\Local\\Temp\\ipykernel_27804\\2463110837.py:36: FutureWarning: The frame.append method is deprecated and will be removed from pandas in a future version. Use pandas.concat instead.\n",
      "  df_dach = df_dach.append(result, ignore_index=True)\n",
      "C:\\Users\\flavi\\AppData\\Local\\Temp\\ipykernel_27804\\2463110837.py:36: FutureWarning: The frame.append method is deprecated and will be removed from pandas in a future version. Use pandas.concat instead.\n",
      "  df_dach = df_dach.append(result, ignore_index=True)\n",
      "C:\\Users\\flavi\\AppData\\Local\\Temp\\ipykernel_27804\\2463110837.py:36: FutureWarning: The frame.append method is deprecated and will be removed from pandas in a future version. Use pandas.concat instead.\n",
      "  df_dach = df_dach.append(result, ignore_index=True)\n",
      "C:\\Users\\flavi\\AppData\\Local\\Temp\\ipykernel_27804\\2463110837.py:36: FutureWarning: The frame.append method is deprecated and will be removed from pandas in a future version. Use pandas.concat instead.\n",
      "  df_dach = df_dach.append(result, ignore_index=True)\n"
     ]
    }
   ],
   "source": [
    "import sqlite3\n",
    "import numpy as np\n",
    "import pandas as pd\n",
    "\n",
    "conn = sqlite3.connect('data/SOLKAT_DACH.gpkg')\n",
    "cursor = conn.cursor()\n",
    "\n",
    "# Inhalt von Dataframe löschen\n",
    "df_dach.drop(index=df_dach.index, inplace=True)\n",
    "\n",
    "# Schleife über jede Gruppe von 500 EGIDs\n",
    "for i in range(0, len(df_building), 500):\n",
    "    # Aktuelle Gruppe von EGIDs auswählen\n",
    "    egid_group = df_building[\"EGID\"].iloc[i:i+500]\n",
    "    \n",
    "    # WHERE-Klausel für die Abfrage erstellen\n",
    "    where_clause = \"WHERE \" + \" OR \".join([\"GWR_EGID='{}'\".format(egid) for egid in egid_group])\n",
    "    \n",
    "    # SQL-Abfrage ausführen\n",
    "    sql =  \"\"\"\n",
    "        SELECT \n",
    "            SUM(FLAECHE) AS Summe_Flaeche, \n",
    "            SUM(STROMERTRAG) AS Summe_Stromertrag, \n",
    "            SUM(FLAECHE_KOLLEKTOREN) AS Summe_Flaeche_Kollektoren, \n",
    "            GWR_EGID AS EGID\n",
    "        FROM \n",
    "            SOLKAT_CH_DACH\n",
    "        {}\n",
    "        GROUP BY\n",
    "            GWR_EGID;\n",
    "        \"\"\".format(where_clause)\n",
    "    \n",
    "    result = pd.read_sql_query(sql, conn)\n",
    "\n",
    "    # Ergebnis dem bestehenden DataFrame \"df_dach\" hinzufügen\n",
    "    df_dach = df_dach.append(result, ignore_index=True)\n",
    "\n",
    "\n",
    "# Verbindung schließen\n",
    "conn.close()\n",
    "\n",
    "\n",
    "# Spalte EGID muss für merge gleicher Datentyp wie df_building/EGID haben\n",
    "df_dach[\"EGID\"] = df_dach[\"EGID\"].astype(str)\n",
    "\n",
    "# Mergen und Zeilen behalten, die in beiden Dataframes gefunden wurden\n",
    "df_merge = pd.merge(df_building, df_dach, how='inner', on='EGID')\n",
    "\n",
    "df_merge.to_csv(\"data/DachInfo.csv\", index=False)\n"
   ]
  }
 ],
 "metadata": {
  "kernelspec": {
   "display_name": "Python 3",
   "language": "python",
   "name": "python3"
  },
  "language_info": {
   "codemirror_mode": {
    "name": "ipython",
    "version": 3
   },
   "file_extension": ".py",
   "mimetype": "text/x-python",
   "name": "python",
   "nbconvert_exporter": "python",
   "pygments_lexer": "ipython3",
   "version": "3.11.0"
  },
  "orig_nbformat": 4
 },
 "nbformat": 4,
 "nbformat_minor": 2
}
