{
 "cells": [
  {
   "attachments": {},
   "cell_type": "markdown",
   "metadata": {},
   "source": [
    "Daten vervollständigen / anreichern\n",
    "\n",
    "- Ertrag pro m'2 pro Gemeinde/Kanton \n",
    "- Summe der Dachflächen pro Gemeinde / Kanton \n",
    "- Summe Ertrag pro Gemeinde / Kanton \n",
    "- Koordinanten umrechnen (LV95 zu lat/lon)"
   ]
  },
  {
   "cell_type": "code",
   "execution_count": null,
   "metadata": {},
   "outputs": [],
   "source": [
    "# Dachinfo.csv Datei laden"
   ]
  },
  {
   "cell_type": "code",
   "execution_count": 2,
   "metadata": {},
   "outputs": [],
   "source": [
    "import pandas as pd\n",
    "\n",
    "df = pd.read_csv('Data/DachInfo.csv')\n"
   ]
  },
  {
   "cell_type": "code",
   "execution_count": null,
   "metadata": {},
   "outputs": [],
   "source": [
    "# Geladene Daten prüfen, erste Zeilen ausgeben"
   ]
  },
  {
   "cell_type": "code",
   "execution_count": null,
   "metadata": {},
   "outputs": [],
   "source": [
    "print(df.head())\n"
   ]
  },
  {
   "cell_type": "code",
   "execution_count": null,
   "metadata": {},
   "outputs": [],
   "source": [
    "# Summe Dachflächen pro Gemeinde (GGDENAME) (Daten: Gemeinde, Kanton, Summe Total Dachfläche) in CSV exportieren"
   ]
  },
  {
   "cell_type": "code",
   "execution_count": 4,
   "metadata": {},
   "outputs": [],
   "source": [
    "# Gruppieren der Daten nach Gemeinde (GGDENAME) und Kanton (GDEKT) und Berechnung Summe der Dachflächen pro Gemeinde\n",
    "\n",
    "df_gemeinden = df.groupby(['GGDENAME', 'GDEKT'])['Summe_Flaeche'].sum().reset_index()\n",
    "\n"
   ]
  },
  {
   "cell_type": "code",
   "execution_count": null,
   "metadata": {},
   "outputs": [],
   "source": [
    "# df_gemeinden erste Zeilen prüfen ob Daten richtig erstellt wurden\n",
    "\n",
    "print (df_gemeinden.head())"
   ]
  },
  {
   "cell_type": "code",
   "execution_count": null,
   "metadata": {},
   "outputs": [],
   "source": [
    "# Speichern des Ergebnis in eine CSV-Datei\n",
    "\n",
    "df_gemeinden.to_csv('data/summe_dachflaechen_pro_gemeinde.csv', index=False)"
   ]
  },
  {
   "cell_type": "code",
   "execution_count": null,
   "metadata": {},
   "outputs": [],
   "source": [
    "# Summe Ertrag pro Gemeinde (GGDENAME) (Spalten: Gemeinde, Kanton, Summe Total Ertrag) in CSV exportieren"
   ]
  },
  {
   "cell_type": "code",
   "execution_count": 6,
   "metadata": {},
   "outputs": [],
   "source": [
    "# Gruppieren der Daten nach Gemeinde (GGDENAME) und Kanton (GDEKT) und Berechnung Summe des Ertrags pro Gemeinde\n",
    "df_ertrag_gemeinden = df.groupby(['GGDENAME', 'GDEKT'])['Summe_Stromertrag'].sum().reset_index()\n"
   ]
  },
  {
   "cell_type": "code",
   "execution_count": null,
   "metadata": {},
   "outputs": [],
   "source": [
    "# df_ertrag_gemeinden erste Zeilen prüfen ob Daten richtig erstellt wurden\n",
    "print (df_ertrag_gemeinden.head())"
   ]
  },
  {
   "cell_type": "code",
   "execution_count": 7,
   "metadata": {},
   "outputs": [],
   "source": [
    "# Speichern des Ergebnis in eine CSV-Datei\n",
    "df_ertrag_gemeinden.to_csv('Data/summe_ertrag_pro_gemeinde.csv', index=False)\n"
   ]
  },
  {
   "cell_type": "code",
   "execution_count": null,
   "metadata": {},
   "outputs": [],
   "source": [
    "# Berechnung welche Gemeinde den höchsten Ertrag pro Quadratmeter hat: df_gemeinden und df_ertrag_gemeinden zusammenführen und neue Spalte hinzufügen, die den Ertrag pro Quadratmeter berechnet."
   ]
  },
  {
   "cell_type": "code",
   "execution_count": 9,
   "metadata": {},
   "outputs": [],
   "source": [
    "# DataFrames df_gemeinden und df_ertrag_gemeinden zusammenfühhren, um ein neues DataFrame df_combined zu erstellen\n",
    "# Mit pd.merge() die beiden DataFrames df_gemeinden und df_ertrag_gemeinden kombinieren basierend auf den gemeinsamen Spalten 'GGDENAME' und 'GDEKT' \n",
    "# und ein neues DataFrame df_combined erstellen\n",
    "\n",
    "\n",
    "df_combined = pd.merge(df_gemeinden, df_ertrag_gemeinden, on=['GGDENAME', 'GDEKT'])\n"
   ]
  },
  {
   "cell_type": "code",
   "execution_count": null,
   "metadata": {},
   "outputs": [],
   "source": [
    "# Neues DataFrame df_combined überprüfen, erste Zeilen ausgeben\n",
    "\n",
    "print(df_combined.head())"
   ]
  },
  {
   "cell_type": "code",
   "execution_count": 11,
   "metadata": {},
   "outputs": [],
   "source": [
    "# Berechnung neue Spalte mit dem Ertrag pro Quadratmeter\n",
    "df_combined['Ertrag_pro_Quadratmeter'] = df_combined['Summe_Stromertrag'] / df_combined['Summe_Flaeche']\n"
   ]
  },
  {
   "cell_type": "code",
   "execution_count": null,
   "metadata": {},
   "outputs": [],
   "source": [
    "# Neues DataFrame df_combined überprüfen, erste Zeilen ausgeben\n",
    "\n",
    "print(df_combined.head())"
   ]
  },
  {
   "cell_type": "code",
   "execution_count": 14,
   "metadata": {},
   "outputs": [],
   "source": [
    "# Optional: Das DataFrame df_combined nach der neuen Spalte Ertrag_pro_Quadratmeter in absteigender Reihenfolge sortieren\n",
    "\n",
    "df_combined = df_combined.sort_values('Ertrag_pro_Quadratmeter', ascending=False)\n"
   ]
  },
  {
   "cell_type": "code",
   "execution_count": null,
   "metadata": {},
   "outputs": [],
   "source": [
    "# Optional: Neues DataFrame df_combined (sortiert Absteigend nach Ertrag_pro_Quadratmeter) überprüfen, erste Zeilen ausgeben\n",
    "\n",
    "print(df_combined.head())"
   ]
  },
  {
   "cell_type": "code",
   "execution_count": 13,
   "metadata": {},
   "outputs": [],
   "source": [
    "# Das Ergebnis in eine CSV-Datei mit der to_csv()-Methode speichern\n",
    "df_combined.to_csv('Data/ertrag_pro_quadratmeter_pro_gemeinde.csv', index=False)\n"
   ]
  },
  {
   "attachments": {},
   "cell_type": "markdown",
   "metadata": {},
   "source": [
    "Funktion für Umrechung LV95 to lat/lon Koordinaten"
   ]
  },
  {
   "cell_type": "code",
   "execution_count": 5,
   "metadata": {},
   "outputs": [],
   "source": [
    "from pyproj import Transformer\n",
    "\n",
    "def lv95_to_latlon(easting, northing):\n",
    "    transformer = Transformer.from_crs(\"EPSG:2056\", \"EPSG:4326\")  # LV95 (EPSG:2056) zu WGS84 (EPSG:4326)\n",
    "    lon, lat = transformer.transform(easting, northing)\n",
    "    return lon, lat\n"
   ]
  },
  {
   "attachments": {},
   "cell_type": "markdown",
   "metadata": {},
   "source": [
    "Funktion testen"
   ]
  },
  {
   "cell_type": "code",
   "execution_count": null,
   "metadata": {},
   "outputs": [],
   "source": [
    "east = 2676067.5\n",
    "north = 1178574.6\n",
    "\n",
    "lat, lon = lv95_to_latlon(east, north)\n",
    "print(f\"Latitude: {lat}, Longitude: {lon}\")\n"
   ]
  },
  {
   "attachments": {},
   "cell_type": "markdown",
   "metadata": {},
   "source": [
    "Berechung von Gebäudekoordinaten lv95 --> lat/lon"
   ]
  },
  {
   "cell_type": "code",
   "execution_count": 8,
   "metadata": {},
   "outputs": [],
   "source": [
    "import pandas as pd\n",
    "\n",
    "# CSV-Datei einlesen\n",
    "data = pd.read_csv('data/DachInfo.csv')\n",
    "\n",
    "# Neue Spalte erstellen und Berechnungen durchführen\n",
    "data['Koord_lat'], data['Koord_log'] = lv95_to_latlon(data['GKODE'],data['GKODN'])\n",
    "\n",
    "# Ergebnisse in einer neuen CSV-Datei speichern\n",
    "data.to_csv('data/DachInfo4View.csv', index=False)"
   ]
  }
 ],
 "metadata": {
  "kernelspec": {
   "display_name": "Python 3",
   "language": "python",
   "name": "python3"
  },
  "language_info": {
   "codemirror_mode": {
    "name": "ipython",
    "version": 3
   },
   "file_extension": ".py",
   "mimetype": "text/x-python",
   "name": "python",
   "nbconvert_exporter": "python",
   "pygments_lexer": "ipython3",
   "version": "3.11.0"
  },
  "orig_nbformat": 4
 },
 "nbformat": 4,
 "nbformat_minor": 2
}
