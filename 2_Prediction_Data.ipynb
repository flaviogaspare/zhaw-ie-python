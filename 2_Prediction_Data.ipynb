{
 "cells": [
  {
   "attachments": {},
   "cell_type": "markdown",
   "metadata": {},
   "source": [
    "Daten verfolständigen / auffüllen (Flavio / Kaltrim)\n",
    "\n",
    "- Ertrag pro m'2 pro Gemeinde/Kanton \n",
    "- Summe der Dachflächen pro Gemeinde / Kanton \n",
    "- Summe Ertrag pro Gemeinde / Kanton \n",
    "- Koordinanten umrechnen (LV95 zu lat/lon)\n",
    "\n",
    "St. Gallen Wil  23kWh 50000m2 500000 kWh\n",
    "\n",
    "\n",
    "\n"
   ]
  }
 ],
 "metadata": {
  "language_info": {
   "name": "python"
  },
  "orig_nbformat": 4
 },
 "nbformat": 4,
 "nbformat_minor": 2
}
