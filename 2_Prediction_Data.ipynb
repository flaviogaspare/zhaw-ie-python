{
 "cells": [
  {
   "attachments": {},
   "cell_type": "markdown",
   "metadata": {},
   "source": [
    "Daten verfolständigen / auffüllen (Flavio / Kaltrim)\n",
    "\n",
    "- Ertrag pro m'2 pro Gemeinde/Kanton \n",
    "- Summe der Dachflächen pro Gemeinde / Kanton \n",
    "- Summe Ertrag pro Gemeinde / Kanton \n",
    "- Koordinanten umrechnen (LV95 zu lat/lon)\n",
    "\n",
    "St. Gallen Wil  23kWh 50000m2 500000 kWh\n",
    "\n",
    "\n",
    "\n"
   ]
  },
  {
   "cell_type": "code",
   "execution_count": null,
   "metadata": {},
   "outputs": [],
   "source": [
    "# Dachinfo.csv Datei laden"
   ]
  },
  {
   "cell_type": "code",
   "execution_count": 2,
   "metadata": {},
   "outputs": [],
   "source": [
    "import pandas as pd\n",
    "\n",
    "df = pd.read_csv('Data/DachInfo.csv')\n"
   ]
  },
  {
   "cell_type": "code",
   "execution_count": null,
   "metadata": {},
   "outputs": [],
   "source": [
    "# Geladene Daten prüfen, erste Zeilen ausgeben"
   ]
  },
  {
   "cell_type": "code",
   "execution_count": 3,
   "metadata": {},
   "outputs": [
    {
     "name": "stdout",
     "output_type": "stream",
     "text": [
      "        EGID   GGDENAME GDEKT        GKODE        GKODN  Summe_Flaeche  \\\n",
      "0  101154903  Brig-Glis    VS  2636742.189  1127654.168     184.296455   \n",
      "1  101154904  Brig-Glis    VS  2643288.259  1129898.127     117.285666   \n",
      "2  101154910  Brig-Glis    VS  2640149.923  1128530.206    5525.011826   \n",
      "3  101154912  Brig-Glis    VS  2639467.475  1128273.863     223.793816   \n",
      "4  101154914  Brig-Glis    VS  2641762.855  1128817.126     238.201871   \n",
      "\n",
      "   Summe_Stromertrag  Summe_Flaeche_Kollektoren  \n",
      "0              36659                  54.348364  \n",
      "1              24449                  27.381539  \n",
      "2            1100592                 622.979073  \n",
      "3              44581                  25.175372  \n",
      "4              43522                 120.199861  \n"
     ]
    }
   ],
   "source": [
    "print(df.head())\n"
   ]
  },
  {
   "cell_type": "code",
   "execution_count": null,
   "metadata": {},
   "outputs": [],
   "source": [
    "# Summe Dachflächen pro Gemeinde (GGDENAME) (Daten: Gemeinde, Kanton, Summe Total Dachfläche) in CSV exportieren"
   ]
  },
  {
   "cell_type": "code",
   "execution_count": 4,
   "metadata": {},
   "outputs": [],
   "source": [
    "# Gruppieren der Daten nach Gemeinde (GGDENAME) und Kanton (GDEKT) und Berechnung Summe der Dachflächen pro Gemeinde\n",
    "\n",
    "df_gemeinden = df.groupby(['GGDENAME', 'GDEKT'])['Summe_Flaeche'].sum().reset_index()\n",
    "\n"
   ]
  },
  {
   "cell_type": "code",
   "execution_count": 5,
   "metadata": {},
   "outputs": [
    {
     "name": "stdout",
     "output_type": "stream",
     "text": [
      "    GGDENAME GDEKT  Summe_Flaeche\n",
      "0      Agarn    VS   54460.091317\n",
      "1    Albinen    VS   36538.613632\n",
      "2  Anniviers    VS  413230.544625\n",
      "3      Arbaz    VS  121730.760946\n",
      "4      Ardon    VS  189481.011908\n"
     ]
    }
   ],
   "source": [
    "# df_gemeinden erste Zeilen prüfen ob Daten richtig erstellt wurden\n",
    "\n",
    "print (df_gemeinden.head())"
   ]
  },
  {
   "cell_type": "code",
   "execution_count": null,
   "metadata": {},
   "outputs": [],
   "source": [
    "# Speichern des Ergebnis in eine CSV-Datei\n",
    "\n",
    "df_gemeinden.to_csv('data/summe_dachflaechen_pro_gemeinde.csv', index=False)"
   ]
  },
  {
   "cell_type": "code",
   "execution_count": null,
   "metadata": {},
   "outputs": [],
   "source": [
    "# Summe Ertrag pro Gemeinde (GGDENAME) (Spalten: Gemeinde, Kanton, Summe Total Ertrag) in CSV exportieren"
   ]
  },
  {
   "cell_type": "code",
   "execution_count": 6,
   "metadata": {},
   "outputs": [],
   "source": [
    "# Gruppieren der Daten nach Gemeinde (GGDENAME) und Kanton (GDEKT) und Berechnung Summe des Ertrags pro Gemeinde\n",
    "df_ertrag_gemeinden = df.groupby(['GGDENAME', 'GDEKT'])['Summe_Stromertrag'].sum().reset_index()\n"
   ]
  },
  {
   "cell_type": "code",
   "execution_count": 8,
   "metadata": {},
   "outputs": [
    {
     "name": "stdout",
     "output_type": "stream",
     "text": [
      "    GGDENAME GDEKT  Summe_Stromertrag\n",
      "0      Agarn    VS           10269345\n",
      "1    Albinen    VS            7484855\n",
      "2  Anniviers    VS           79874626\n",
      "3      Arbaz    VS           26768568\n",
      "4      Ardon    VS           38804641\n"
     ]
    }
   ],
   "source": [
    "# df_ertrag_gemeinden erste Zeilen prüfen ob Daten richtig erstellt wurden\n",
    "print (df_ertrag_gemeinden.head())"
   ]
  },
  {
   "cell_type": "code",
   "execution_count": 7,
   "metadata": {},
   "outputs": [],
   "source": [
    "# Speichern des Ergebnis in eine CSV-Datei\n",
    "df_ertrag_gemeinden.to_csv('Data/summe_ertrag_pro_gemeinde.csv', index=False)\n"
   ]
  },
  {
   "cell_type": "code",
   "execution_count": null,
   "metadata": {},
   "outputs": [],
   "source": [
    "# Berechnung welche Gemeinde den höchsten Ertrag pro Quadratmeter hat: df_gemeinden und df_ertrag_gemeinden zusammenführen und neue Spalte hinzufügen, die den Ertrag pro Quadratmeter berechnet."
   ]
  },
  {
   "cell_type": "code",
   "execution_count": 9,
   "metadata": {},
   "outputs": [],
   "source": [
    "# DataFrames df_gemeinden und df_ertrag_gemeinden zusammenfühhren, um ein neues DataFrame df_combined zu erstellen\n",
    "# Mit pd.merge() die beiden DataFrames df_gemeinden und df_ertrag_gemeinden kombinieren basierend auf den gemeinsamen Spalten 'GGDENAME' und 'GDEKT' \n",
    "# und ein neues DataFrame df_combined erstellen\n",
    "\n",
    "\n",
    "df_combined = pd.merge(df_gemeinden, df_ertrag_gemeinden, on=['GGDENAME', 'GDEKT'])\n"
   ]
  },
  {
   "cell_type": "code",
   "execution_count": 10,
   "metadata": {},
   "outputs": [
    {
     "name": "stdout",
     "output_type": "stream",
     "text": [
      "    GGDENAME GDEKT  Summe_Flaeche  Summe_Stromertrag\n",
      "0      Agarn    VS   54460.091317           10269345\n",
      "1    Albinen    VS   36538.613632            7484855\n",
      "2  Anniviers    VS  413230.544625           79874626\n",
      "3      Arbaz    VS  121730.760946           26768568\n",
      "4      Ardon    VS  189481.011908           38804641\n"
     ]
    }
   ],
   "source": [
    "# Neues DataFrame df_combined überprüfen, erste Zeilen ausgeben\n",
    "\n",
    "print(df_combined.head())"
   ]
  },
  {
   "cell_type": "code",
   "execution_count": 11,
   "metadata": {},
   "outputs": [],
   "source": [
    "# Berechnung neue Spalte mit dem Ertrag pro Quadratmeter\n",
    "df_combined['Ertrag_pro_Quadratmeter'] = df_combined['Summe_Stromertrag'] / df_combined['Summe_Flaeche']\n"
   ]
  },
  {
   "cell_type": "code",
   "execution_count": 12,
   "metadata": {},
   "outputs": [
    {
     "name": "stdout",
     "output_type": "stream",
     "text": [
      "    GGDENAME GDEKT  Summe_Flaeche  Summe_Stromertrag  Ertrag_pro_Quadratmeter\n",
      "0      Agarn    VS   54460.091317           10269345               188.566430\n",
      "1    Albinen    VS   36538.613632            7484855               204.847810\n",
      "2  Anniviers    VS  413230.544625           79874626               193.293131\n",
      "3      Arbaz    VS  121730.760946           26768568               219.899784\n",
      "4      Ardon    VS  189481.011908           38804641               204.794352\n"
     ]
    }
   ],
   "source": [
    "# Neues DataFrame df_combined überprüfen, erste Zeilen ausgeben\n",
    "\n",
    "print(df_combined.head())"
   ]
  },
  {
   "cell_type": "code",
   "execution_count": 14,
   "metadata": {},
   "outputs": [],
   "source": [
    "# Optional: Das DataFrame df_combined nach der neuen Spalte Ertrag_pro_Quadratmeter in absteigender Reihenfolge sortieren\n",
    "\n",
    "df_combined = df_combined.sort_values('Ertrag_pro_Quadratmeter', ascending=False)\n"
   ]
  },
  {
   "cell_type": "code",
   "execution_count": 15,
   "metadata": {},
   "outputs": [
    {
     "name": "stdout",
     "output_type": "stream",
     "text": [
      "         GGDENAME GDEKT  Summe_Flaeche  Summe_Stromertrag  \\\n",
      "3           Arbaz    VS  121730.760946           26768568   \n",
      "43      Grimisuat    VS  191326.198510           41463835   \n",
      "6           Ayent    VS  295969.248619           63964706   \n",
      "9      Bettmeralp    VS   90641.517678           19545518   \n",
      "25  Crans-Montana    VS  848905.360044          182979926   \n",
      "\n",
      "    Ertrag_pro_Quadratmeter  \n",
      "3                219.899784  \n",
      "43               216.718020  \n",
      "6                216.119432  \n",
      "9                215.635379  \n",
      "25               215.548087  \n"
     ]
    }
   ],
   "source": [
    "# Optional: Neues DataFrame df_combined (sortiert Absteigend nach Ertrag_pro_Quadratmeter) überprüfen, erste Zeilen ausgeben\n",
    "\n",
    "print(df_combined.head())"
   ]
  },
  {
   "cell_type": "code",
   "execution_count": 13,
   "metadata": {},
   "outputs": [],
   "source": [
    "# Das Ergebnis in eine CSV-Datei mit der to_csv()-Methode speichern\n",
    "df_combined.to_csv('Data/ertrag_pro_quadratmeter_pro_gemeinde.csv', index=False)\n"
   ]
  }
 ],
 "metadata": {
  "kernelspec": {
   "display_name": "Python 3",
   "language": "python",
   "name": "python3"
  },
  "language_info": {
   "codemirror_mode": {
    "name": "ipython",
    "version": 3
   },
   "file_extension": ".py",
   "mimetype": "text/x-python",
   "name": "python",
   "nbconvert_exporter": "python",
   "pygments_lexer": "ipython3",
   "version": "3.11.3"
  },
  "orig_nbformat": 4
 },
 "nbformat": 4,
 "nbformat_minor": 2
}
